{
 "cells": [
  {
   "cell_type": "markdown",
   "metadata": {},
   "source": [
    "# Titanic Data Analysis\n",
    "\n",
    "## Background\n",
    "\n",
    "This is the second project of Data Analyst Nanodegree. The purpose is to conduct data analysis on Titanic dataset by using Pandas and Numpy.\n",
    "\n",
    "**Titanic Data**: Contains demographics and passenger information from 891 of the 2224 passengers and crew on board the Titanic. The description of the dataset can be found on [the Kaggle website](https://www.kaggle.com/c/titanic/data). \n",
    "\n",
    "## Questions\n",
    "\n",
    "1. What is the relation between sex and survival rate?\n",
    "+ What is the relation between socio-economic status and survival rate?\n",
    "+ What is the relation between age and survival rate?\n",
    "\n",
    "### Limitations\n",
    "\n",
    "1. SibSp: From this column, we can only know how many siblings and spouse the passenger has on board. We do not know if two passengers are husband and wife, or two passengers are silings. And we do not know \"family\" information based on the given data. With more details of sibling and spouse information, we may investigate the relation between family and suvival rate.\n",
    "\n",
    "+ Parch: We cannot tell if a passenger is parent or child. For example, if a woman is 20 years old, it is possible she is a mom with a young child or she is a child of a middle age woman. If we are provided with the parent and child information, we can answer questions like \"if women with children have larger survival rate than women without children\".\n",
    "\n",
    "+ Cabin: We do not know the location of each cabin. Therefore, we cannot tell if passengers from some cabin has larger survival rate than passengers from other cabins. We cannot use Cabin information without map information.\n",
    "\n",
    "Due to the limitations above, we choose to propose questions unrelated with SibSp, Parch and cabin information.\n",
    "\n",
    "\n",
    "## Data Wrangling\n",
    "\n",
    "### Variable Description\n",
    "\n",
    "According to [the Kaggle website](https://www.kaggle.com/c/titanic/data), the variables are described below,\n",
    "\n",
    "+ **survival**        Survival (0 = No; 1 = Yes)\n",
    "+ **pclass**          Passenger Class (1 = 1st; 2 = 2nd; 3 = 3rd)\n",
    "+ **name**            Name\n",
    "+ **sex**             Sex\n",
    "+ **age**             Age\n",
    "+ **sibsp**           Number of Siblings/Spouses Aboard\n",
    "+ **parch**           Number of Parents/Children Aboard\n",
    "+ **ticket**          Ticket Number\n",
    "+ **fare**            Passenger Fare\n",
    "+ **cabin**           Cabin\n",
    "+ **embarked**        Port of Embarkation (C = Cherbourg; Q = Queenstown; S = Southampton)\n",
    "                \n",
    "                \n",
    "**SPECIAL NOTES:**\n",
    "\n",
    "+ Pclass is a proxy for socio-economic status (SES) 1st ~ Upper; 2nd ~ Middle; 3rd ~ Lower\n",
    "+ Age is in Years; Fractional if Age less than One (1) If the Age is Estimated, it is in the form xx.5\n",
    "\n",
    "With respect to the family relation variables (i.e. sibsp and parch)\n",
    "some relations were ignored.  The following are the definitions used\n",
    "for sibsp and parch.\n",
    "\n",
    "+ Sibling:  Brother, Sister, Stepbrother, or Stepsister of Passenger Aboard Titanic\n",
    "+ Spouse:   Husband or Wife of Passenger Aboard Titanic (Mistresses and Fiances Ignored)\n",
    "+ Parent:   Mother or Father of Passenger Aboard Titanic\n",
    "+ Child:    Son, Daughter, Stepson, or Stepdaughter of Passenger Aboard Titanic\n",
    "\n",
    "Other family relatives excluded from this study include cousins,\n",
    "nephews/nieces, aunts/uncles, and in-laws.  Some children travelled\n",
    "only with a nanny, therefore parch=0 for them.  As well, some\n",
    "travelled with very close friends or neighbors in a village, however,\n",
    "the definitions do not support such relations."
   ]
  },
  {
   "cell_type": "code",
   "execution_count": 2,
   "metadata": {
    "collapsed": false
   },
   "outputs": [
    {
     "name": "stdout",
     "output_type": "stream",
     "text": [
      "Populating the interactive namespace from numpy and matplotlib\n"
     ]
    },
    {
     "data": {
      "text/html": [
       "<div>\n",
       "<table border=\"1\" class=\"dataframe\">\n",
       "  <thead>\n",
       "    <tr style=\"text-align: right;\">\n",
       "      <th></th>\n",
       "      <th>PassengerId</th>\n",
       "      <th>Survived</th>\n",
       "      <th>Pclass</th>\n",
       "      <th>Name</th>\n",
       "      <th>Sex</th>\n",
       "      <th>Age</th>\n",
       "      <th>SibSp</th>\n",
       "      <th>Parch</th>\n",
       "      <th>Ticket</th>\n",
       "      <th>Fare</th>\n",
       "      <th>Cabin</th>\n",
       "      <th>Embarked</th>\n",
       "    </tr>\n",
       "  </thead>\n",
       "  <tbody>\n",
       "    <tr>\n",
       "      <th>0</th>\n",
       "      <td>1</td>\n",
       "      <td>0</td>\n",
       "      <td>3</td>\n",
       "      <td>Braund, Mr. Owen Harris</td>\n",
       "      <td>male</td>\n",
       "      <td>22.0</td>\n",
       "      <td>1</td>\n",
       "      <td>0</td>\n",
       "      <td>A/5 21171</td>\n",
       "      <td>7.2500</td>\n",
       "      <td>NaN</td>\n",
       "      <td>S</td>\n",
       "    </tr>\n",
       "    <tr>\n",
       "      <th>1</th>\n",
       "      <td>2</td>\n",
       "      <td>1</td>\n",
       "      <td>1</td>\n",
       "      <td>Cumings, Mrs. John Bradley (Florence Briggs Th...</td>\n",
       "      <td>female</td>\n",
       "      <td>38.0</td>\n",
       "      <td>1</td>\n",
       "      <td>0</td>\n",
       "      <td>PC 17599</td>\n",
       "      <td>71.2833</td>\n",
       "      <td>C85</td>\n",
       "      <td>C</td>\n",
       "    </tr>\n",
       "    <tr>\n",
       "      <th>2</th>\n",
       "      <td>3</td>\n",
       "      <td>1</td>\n",
       "      <td>3</td>\n",
       "      <td>Heikkinen, Miss. Laina</td>\n",
       "      <td>female</td>\n",
       "      <td>26.0</td>\n",
       "      <td>0</td>\n",
       "      <td>0</td>\n",
       "      <td>STON/O2. 3101282</td>\n",
       "      <td>7.9250</td>\n",
       "      <td>NaN</td>\n",
       "      <td>S</td>\n",
       "    </tr>\n",
       "    <tr>\n",
       "      <th>3</th>\n",
       "      <td>4</td>\n",
       "      <td>1</td>\n",
       "      <td>1</td>\n",
       "      <td>Futrelle, Mrs. Jacques Heath (Lily May Peel)</td>\n",
       "      <td>female</td>\n",
       "      <td>35.0</td>\n",
       "      <td>1</td>\n",
       "      <td>0</td>\n",
       "      <td>113803</td>\n",
       "      <td>53.1000</td>\n",
       "      <td>C123</td>\n",
       "      <td>S</td>\n",
       "    </tr>\n",
       "    <tr>\n",
       "      <th>4</th>\n",
       "      <td>5</td>\n",
       "      <td>0</td>\n",
       "      <td>3</td>\n",
       "      <td>Allen, Mr. William Henry</td>\n",
       "      <td>male</td>\n",
       "      <td>35.0</td>\n",
       "      <td>0</td>\n",
       "      <td>0</td>\n",
       "      <td>373450</td>\n",
       "      <td>8.0500</td>\n",
       "      <td>NaN</td>\n",
       "      <td>S</td>\n",
       "    </tr>\n",
       "  </tbody>\n",
       "</table>\n",
       "</div>"
      ],
      "text/plain": [
       "   PassengerId  Survived  Pclass  \\\n",
       "0            1         0       3   \n",
       "1            2         1       1   \n",
       "2            3         1       3   \n",
       "3            4         1       1   \n",
       "4            5         0       3   \n",
       "\n",
       "                                                Name     Sex   Age  SibSp  \\\n",
       "0                            Braund, Mr. Owen Harris    male  22.0      1   \n",
       "1  Cumings, Mrs. John Bradley (Florence Briggs Th...  female  38.0      1   \n",
       "2                             Heikkinen, Miss. Laina  female  26.0      0   \n",
       "3       Futrelle, Mrs. Jacques Heath (Lily May Peel)  female  35.0      1   \n",
       "4                           Allen, Mr. William Henry    male  35.0      0   \n",
       "\n",
       "   Parch            Ticket     Fare Cabin Embarked  \n",
       "0      0         A/5 21171   7.2500   NaN        S  \n",
       "1      0          PC 17599  71.2833   C85        C  \n",
       "2      0  STON/O2. 3101282   7.9250   NaN        S  \n",
       "3      0            113803  53.1000  C123        S  \n",
       "4      0            373450   8.0500   NaN        S  "
      ]
     },
     "execution_count": 2,
     "metadata": {},
     "output_type": "execute_result"
    }
   ],
   "source": [
    "%pylab inline\n",
    "\n",
    "import matplotlib.pyplot as plt\n",
    "import seaborn as sns\n",
    "import pandas as pd\n",
    "import numpy as np\n",
    "\n",
    "titanic_data = pd.read_csv('titanic-data.csv')\n",
    "\n",
    "# Print the first few rows of the dataset\n",
    "titanic_data.head()"
   ]
  },
  {
   "cell_type": "code",
   "execution_count": 4,
   "metadata": {
    "collapsed": false
   },
   "outputs": [
    {
     "data": {
      "text/plain": [
       "891"
      ]
     },
     "execution_count": 4,
     "metadata": {},
     "output_type": "execute_result"
    }
   ],
   "source": [
    "# Check total number of rows\n",
    "len(titanic_data.index)"
   ]
  },
  {
   "cell_type": "code",
   "execution_count": 5,
   "metadata": {
    "collapsed": false,
    "scrolled": true
   },
   "outputs": [
    {
     "data": {
      "text/plain": [
       "PassengerId      0\n",
       "Survived         0\n",
       "Pclass           0\n",
       "Name             0\n",
       "Sex              0\n",
       "Age            177\n",
       "SibSp            0\n",
       "Parch            0\n",
       "Ticket           0\n",
       "Fare             0\n",
       "Cabin          687\n",
       "Embarked         2\n",
       "dtype: int64"
      ]
     },
     "execution_count": 5,
     "metadata": {},
     "output_type": "execute_result"
    }
   ],
   "source": [
    "# Check missing values in rows\n",
    "titanic_data.isnull().sum()"
   ]
  },
  {
   "cell_type": "code",
   "execution_count": 8,
   "metadata": {
    "collapsed": false,
    "scrolled": false
   },
   "outputs": [
    {
     "data": {
      "text/plain": [
       "0"
      ]
     },
     "execution_count": 8,
     "metadata": {},
     "output_type": "execute_result"
    }
   ],
   "source": [
    "# Check duplicate rows\n",
    "titanic_data.duplicated().sum()"
   ]
  },
  {
   "cell_type": "markdown",
   "metadata": {},
   "source": [
    "As we can see, there is no duplicate row in the dataset, but the dataset contains missing values. Also, in order to answer the questions above, several columns can be removed since we don't need those information to conduct the analysis. \n",
    "\n",
    "Next steps:\n",
    "1. Remove unwanted columns\n",
    "+ Fix missing values\n",
    "\n",
    "### Remove Unwanted Columns\n",
    "\n",
    "The following columns can be removed:\n",
    "* Name\n",
    "* Ticket\n",
    "* Fare\n",
    "* Cabin\n",
    "* Embarked\n",
    "* SibSp\n",
    "* Parch"
   ]
  },
  {
   "cell_type": "code",
   "execution_count": 112,
   "metadata": {
    "collapsed": false
   },
   "outputs": [
    {
     "data": {
      "text/html": [
       "<div>\n",
       "<table border=\"1\" class=\"dataframe\">\n",
       "  <thead>\n",
       "    <tr style=\"text-align: right;\">\n",
       "      <th></th>\n",
       "      <th>PassengerId</th>\n",
       "      <th>Survived</th>\n",
       "      <th>Pclass</th>\n",
       "      <th>Sex</th>\n",
       "      <th>Age</th>\n",
       "    </tr>\n",
       "  </thead>\n",
       "  <tbody>\n",
       "    <tr>\n",
       "      <th>0</th>\n",
       "      <td>1</td>\n",
       "      <td>0</td>\n",
       "      <td>3</td>\n",
       "      <td>male</td>\n",
       "      <td>22.0</td>\n",
       "    </tr>\n",
       "    <tr>\n",
       "      <th>1</th>\n",
       "      <td>2</td>\n",
       "      <td>1</td>\n",
       "      <td>1</td>\n",
       "      <td>female</td>\n",
       "      <td>38.0</td>\n",
       "    </tr>\n",
       "    <tr>\n",
       "      <th>2</th>\n",
       "      <td>3</td>\n",
       "      <td>1</td>\n",
       "      <td>3</td>\n",
       "      <td>female</td>\n",
       "      <td>26.0</td>\n",
       "    </tr>\n",
       "    <tr>\n",
       "      <th>3</th>\n",
       "      <td>4</td>\n",
       "      <td>1</td>\n",
       "      <td>1</td>\n",
       "      <td>female</td>\n",
       "      <td>35.0</td>\n",
       "    </tr>\n",
       "    <tr>\n",
       "      <th>4</th>\n",
       "      <td>5</td>\n",
       "      <td>0</td>\n",
       "      <td>3</td>\n",
       "      <td>male</td>\n",
       "      <td>35.0</td>\n",
       "    </tr>\n",
       "  </tbody>\n",
       "</table>\n",
       "</div>"
      ],
      "text/plain": [
       "   PassengerId  Survived  Pclass     Sex   Age\n",
       "0            1         0       3    male  22.0\n",
       "1            2         1       1  female  38.0\n",
       "2            3         1       3  female  26.0\n",
       "3            4         1       1  female  35.0\n",
       "4            5         0       3    male  35.0"
      ]
     },
     "execution_count": 112,
     "metadata": {},
     "output_type": "execute_result"
    }
   ],
   "source": [
    "# Remove unwanted columns\n",
    "titanic_data_cleaned = titanic_data.drop(['Name', 'Ticket', 'Fare', 'Cabin', 'Embarked', 'SibSp', 'Parch'], 1)\n",
    "\n",
    "# Show the first few rows of the cleaned dataset\n",
    "titanic_data_cleaned.head()"
   ]
  },
  {
   "cell_type": "markdown",
   "metadata": {},
   "source": [
    "### Fix Missing Values\n",
    "\n",
    "Since Cabin and Embarked columns have been removed, we only need to fix missing values in Age column. We cannot simply fix missing values in Age column by replacing those numbers. Therefore, we will record rows with missing Age values and take these values into account when we conduct the analysis.\n",
    "\n",
    "We would like to record:\n",
    "* Total number of rows with missing Age values\n",
    "* Number of females with missing Age values \n",
    "* Number of males with missing Age values"
   ]
  },
  {
   "cell_type": "code",
   "execution_count": 113,
   "metadata": {
    "collapsed": false
   },
   "outputs": [
    {
     "name": "stdout",
     "output_type": "stream",
     "text": [
      "177\n",
      "714\n"
     ]
    }
   ],
   "source": [
    "# Total number of rows with missing Age values\n",
    "titanic_data_null_ages = titanic_data_cleaned[titanic_data_cleaned['Age'].isnull()]\n",
    "print len(titanic_data_null_ages)\n",
    "\n",
    "# Dataset with no null age values\n",
    "titanic_data_no_null_ages = titanic_data_cleaned[titanic_data_cleaned['Age'].notnull()]\n",
    "print len(titanic_data_no_null_ages)"
   ]
  },
  {
   "cell_type": "code",
   "execution_count": 114,
   "metadata": {
    "collapsed": false
   },
   "outputs": [
    {
     "name": "stdout",
     "output_type": "stream",
     "text": [
      "53\n"
     ]
    }
   ],
   "source": [
    "# Number of females with missing Age values\n",
    "titanic_data_null_ages_female = titanic_data_null_ages.loc[titanic_data_null_ages['Sex'] == 'female']\n",
    "\n",
    "print len(titanic_data_null_ages_female)"
   ]
  },
  {
   "cell_type": "code",
   "execution_count": 115,
   "metadata": {
    "collapsed": false
   },
   "outputs": [
    {
     "name": "stdout",
     "output_type": "stream",
     "text": [
      "124\n"
     ]
    }
   ],
   "source": [
    "# Number of males with missing Age values\n",
    "titanic_data_null_ages_male = titanic_data_null_ages.loc[titanic_data_null_ages['Sex'] == 'male']\n",
    "\n",
    "print len(titanic_data_null_ages_male)"
   ]
  },
  {
   "cell_type": "markdown",
   "metadata": {},
   "source": [
    "In summary, \n",
    "* Total number of rows with missing Age values: 177 (titanic_data_null_ages)\n",
    "* Number of females with missing Age values: 53 (titanic_data_null_ages_female)\n",
    "* Number of males with missing Age values: 124 (titanic_data_null_age_male)\n",
    "\n",
    "In addition,\n",
    "* Number of rows with no missing Age values: 714 (titanic_data_no_null_ages)\n",
    "\n",
    "\n",
    "## Explore and Visualization\n",
    "\n",
    "### Question 1: Sex vs. Survival Rate"
   ]
  },
  {
   "cell_type": "code",
   "execution_count": 116,
   "metadata": {
    "collapsed": false
   },
   "outputs": [
    {
     "name": "stdout",
     "output_type": "stream",
     "text": [
      "Number of male: 577\n",
      "Number of female: 314\n",
      "Number of survived male: 109\n",
      "Number of survived female: 233\n",
      "Survival rate of male: 18.89%\n",
      "Survival rate of female: 74.2%\n"
     ]
    }
   ],
   "source": [
    "# Number of males and females\n",
    "male_number = len(titanic_data_cleaned.loc[titanic_data_cleaned['Sex'] == 'male'])\n",
    "female_number = len(titanic_data_cleaned.loc[titanic_data_cleaned['Sex'] == 'female'])\n",
    "\n",
    "# Number of males and females who are survived\n",
    "male_survived_number = len(titanic_data_cleaned.loc[(titanic_data_cleaned['Sex'] == 'male') & \n",
    "                                                   (titanic_data_cleaned['Survived'] == 1)])\n",
    "female_survived_number = len(titanic_data_cleaned.loc[(titanic_data_cleaned['Sex'] == 'female') & \n",
    "                                                   (titanic_data_cleaned['Survived'] == 1)])\n",
    "\n",
    "print 'Number of male: {}'.format(male_number)\n",
    "print 'Number of female: {}'.format(female_number)\n",
    "print 'Number of survived male: {}'.format(male_survived_number)\n",
    "print 'Number of survived female: {}'.format(female_survived_number)\n",
    "print 'Survival rate of male: {}%'.format(round(float(male_survived_number)/male_number*100, 2))\n",
    "print 'Survival rate of female: {}%'.format(round(float(female_survived_number)/female_number*100, 2))"
   ]
  },
  {
   "cell_type": "code",
   "execution_count": 160,
   "metadata": {
    "collapsed": false
   },
   "outputs": [
    {
     "data": {
      "text/plain": [
       "<matplotlib.text.Text at 0x11d689510>"
      ]
     },
     "execution_count": 160,
     "metadata": {},
     "output_type": "execute_result"
    },
    {
     "data": {
      "image/png": "[encoded data removed]",
      "text/plain": [
       "<matplotlib.figure.Figure at 0x11d5d7d90>"
      ]
     },
     "metadata": {},
     "output_type": "display_data"
    }
   ],
   "source": [
    "# Plot survival rate of males and females\n",
    "g = sns.factorplot(x=\"Sex\", y=\"Survived\", data=titanic_data_cleaned, saturation=.5, kind=\"bar\", ci=None, aspect=.6)\n",
    "g.set_axis_labels('Sex', 'Survival Rate')\n",
    "g.axes.flat[0].set_title('Sex vs. Survival rate')"
   ]
  },
  {
   "cell_type": "code",
   "execution_count": 166,
   "metadata": {
    "collapsed": false
   },
   "outputs": [
    {
     "data": {
      "text/plain": [
       "<matplotlib.text.Text at 0x11ea2e450>"
      ]
     },
     "execution_count": 166,
     "metadata": {},
     "output_type": "execute_result"
    },
    {
     "data": {
      "image/png": "[encoded data removed]",
      "text/plain": [
       "<matplotlib.figure.Figure at 0x11e147650>"
      ]
     },
     "metadata": {},
     "output_type": "display_data"
    }
   ],
   "source": [
    "# Plot number of male and female\n",
    "ax = sns.countplot(x=\"Sex\", data=titanic_data_cleaned)\n",
    "ax.set_title('Number of males and females')"
   ]
  },
  {
   "cell_type": "markdown",
   "metadata": {},
   "source": [
    "According to the analysis above, females have much higher survival rate than males.\n",
    "\n",
    "\n",
    "### Question 2: Socio-economic Status vs. Survival Rate"
   ]
  },
  {
   "cell_type": "code",
   "execution_count": 119,
   "metadata": {
    "collapsed": false
   },
   "outputs": [
    {
     "name": "stdout",
     "output_type": "stream",
     "text": [
      "Survival of males of different classes: \n",
      "       class 1: 36.89%, class 2: 15.74%, class 3: 13.54%\n",
      "Survival of females of different classes: \n",
      "       class 1: 96.81%, class 2: 92.11%, class 3: 50.0%\n"
     ]
    }
   ],
   "source": [
    "# function to compute survival rate\n",
    "def get_survival_rate(sex, pclass):\n",
    "    total_number = len(titanic_data_cleaned.loc[(titanic_data_cleaned['Sex'] == sex) & \n",
    "                                                   (titanic_data_cleaned['Pclass'] == pclass)])\n",
    "    survived_number = len(titanic_data_cleaned.loc[(titanic_data_cleaned['Sex'] == sex) & \n",
    "                                                           (titanic_data_cleaned['Pclass'] == pclass) &\n",
    "                                                           titanic_data_cleaned['Survived'] == 1])\n",
    "    survival_rate = round(float(survived_number)/total_number*100, 2)\n",
    "    return survival_rate\n",
    "\n",
    "print 'Survival of males of different classes: \\n\\\n",
    "       class 1: {}%, class 2: {}%, class 3: {}%'.format(get_survival_rate('male', 1),\n",
    "                                                       get_survival_rate('male', 2),\n",
    "                                                       get_survival_rate('male', 3),)\n",
    "print 'Survival of females of different classes: \\n\\\n",
    "       class 1: {}%, class 2: {}%, class 3: {}%'.format(get_survival_rate('female', 1),\n",
    "                                                       get_survival_rate('female', 2),\n",
    "                                                       get_survival_rate('female', 3),)\n"
   ]
  },
  {
   "cell_type": "markdown",
   "metadata": {},
   "source": [
    "As we can see, in general, females have much higher survival rate than males. Males of 1st class have higher survival rate than males of other classes. For females, both 1st class and 2nd class have survival rates larger than 90%. However, females of class 3 have only 50% survival rate which is much lower than the other classes."
   ]
  },
  {
   "cell_type": "code",
   "execution_count": 176,
   "metadata": {
    "collapsed": false,
    "scrolled": true
   },
   "outputs": [
    {
     "data": {
      "text/plain": [
       "<seaborn.axisgrid.FacetGrid at 0x11ca6ed50>"
      ]
     },
     "execution_count": 176,
     "metadata": {},
     "output_type": "execute_result"
    },
    {
     "data": {
      "image/png": "[encoded data removed]",
      "text/plain": [
       "<matplotlib.figure.Figure at 0x1207a5250>"
      ]
     },
     "metadata": {},
     "output_type": "display_data"
    }
   ],
   "source": [
    "# Plot the survival rate of males and females of different classes\n",
    "g = sns.factorplot(x=\"Sex\", y=\"Survived\", col=\"Pclass\", data=titanic_data_cleaned, \n",
    "                   saturation=.5, kind=\"bar\", ci=None, aspect=.6)\n",
    "g.set_axis_labels('Sex', 'Survival Rate').set_titles(\"Class {col_name} Survival rate\")\n"
   ]
  },
  {
   "cell_type": "code",
   "execution_count": 177,
   "metadata": {
    "collapsed": false
   },
   "outputs": [
    {
     "data": {
      "image/png": "[encoded data removed]",
      "text/plain": [
       "<matplotlib.figure.Figure at 0x120c4ba50>"
      ]
     },
     "metadata": {},
     "output_type": "display_data"
    }
   ],
   "source": [
    "# Plot the number of survived and unsurvived males and females of different classes\n",
    "g = sns.factorplot('Survived', col='Sex', hue='Pclass', data=titanic_data_cleaned, kind='count', size=7, aspect=.8)\n",
    "\n",
    "# Set up axis and labels\n",
    "g.set_xticklabels([\"False\", \"True\"]).set_axis_labels('Survived', 'Number of Passengers')\n",
    "titles = ['Passenger count of males', 'Passenger count of females']\n",
    "for ax, title in zip(g.axes.flat, titles):\n",
    "    ax.set_title(title)"
   ]
  },
  {
   "cell_type": "markdown",
   "metadata": {},
   "source": [
    "### Question 3: Age vs. Survival Rate\n",
    "\n",
    "As we discussed above, we use the new dataset (titanic_data_no_null_ages) without null age values in this case. "
   ]
  },
  {
   "cell_type": "code",
   "execution_count": 122,
   "metadata": {
    "collapsed": false
   },
   "outputs": [
    {
     "name": "stdout",
     "output_type": "stream",
     "text": [
      "0.42\n",
      "80.0\n"
     ]
    }
   ],
   "source": [
    "# Check the min and max age value\n",
    "print titanic_data_no_null_ages['Age'].min()\n",
    "print titanic_data_no_null_ages['Age'].max()"
   ]
  },
  {
   "cell_type": "markdown",
   "metadata": {},
   "source": [
    "The age ranges from 0.42 to 80 years old. The analysis is based on age groups which are defined below,\n",
    "\n",
    "* 0 < age <= 10 \n",
    "* 10 < age <= 20\n",
    "* 20 < age <= 30\n",
    "* 30 < age <= 40\n",
    "* 40 < age <= 50\n",
    "* 50 < age <= 60\n",
    "* 60 < age <= 70\n",
    "* 70 < age <= 80\n",
    "\n",
    "Note: We assume children are people with age < 18"
   ]
  },
  {
   "cell_type": "code",
   "execution_count": 168,
   "metadata": {
    "collapsed": false
   },
   "outputs": [
    {
     "data": {
      "text/plain": [
       "<matplotlib.text.Text at 0x11ed81450>"
      ]
     },
     "execution_count": 168,
     "metadata": {},
     "output_type": "execute_result"
    },
    {
     "data": {
      "image/png": "[encoded data removed]",
      "text/plain": [
       "<matplotlib.figure.Figure at 0x11ecd63d0>"
      ]
     },
     "metadata": {},
     "output_type": "display_data"
    }
   ],
   "source": [
    "ax = sns.distplot(titanic_data_no_null_ages['Age'], bins=8, kde=False, axlabel='Age')\n",
    "ax.set_ylabel('Number of Passengers')\n",
    "ax.set_title('Number of passengers in each age group')"
   ]
  },
  {
   "cell_type": "code",
   "execution_count": 188,
   "metadata": {
    "collapsed": false
   },
   "outputs": [
    {
     "data": {
      "text/plain": [
       "<matplotlib.text.Text at 0x12398bcd0>"
      ]
     },
     "execution_count": 188,
     "metadata": {},
     "output_type": "execute_result"
    },
    {
     "data": {
      "image/png": "[encoded data removed]",
      "text/plain": [
       "<matplotlib.figure.Figure at 0x1232cfc90>"
      ]
     },
     "metadata": {},
     "output_type": "display_data"
    }
   ],
   "source": [
    "ax = sns.violinplot(x='Sex', y='Age', hue='Survived', data=titanic_data_no_null_ages)\n",
    "ax.set_title('Age distribution of survived and unsurvived passengers')"
   ]
  },
  {
   "cell_type": "markdown",
   "metadata": {},
   "source": [
    "From the graph above, we can see that age is not a dominant factor in survival rate. Both males and females have similar age distribution in regard to survival rate."
   ]
  },
  {
   "cell_type": "code",
   "execution_count": 169,
   "metadata": {
    "collapsed": false
   },
   "outputs": [
    {
     "data": {
      "text/plain": [
       "<matplotlib.text.Text at 0x11f1bd750>"
      ]
     },
     "execution_count": 169,
     "metadata": {},
     "output_type": "execute_result"
    },
    {
     "data": {
      "image/png": "[encoded data removed]",
      "text/plain": [
       "<matplotlib.figure.Figure at 0x118323650>"
      ]
     },
     "metadata": {},
     "output_type": "display_data"
    }
   ],
   "source": [
    "survived = titanic_data_no_null_ages.loc[titanic_data_no_null_ages['Survived'] == 1]\n",
    "unsurvived = titanic_data_no_null_ages.loc[titanic_data_no_null_ages['Survived'] == 0]\n",
    "\n",
    "plt.hist([survived['Age'], unsurvived['Age']], color=['r','b'], bins=8, alpha=0.5, label=['Survived', 'Unsurvived'])\n",
    "plt.legend(loc='upper right')\n",
    "plt.xlabel('Age')\n",
    "plt.ylabel('Number of Passengers')\n",
    "plt.title('Survived vs. unsurvived passengers')"
   ]
  },
  {
   "cell_type": "code",
   "execution_count": 125,
   "metadata": {
    "collapsed": false
   },
   "outputs": [
    {
     "name": "stdout",
     "output_type": "stream",
     "text": [
      "Survival rate for each age group: \n",
      "        0 < age <= 10: 59.38% \n",
      "        10 < age <= 20: 38.26% \n",
      "        20 < age <= 30: 36.52% \n",
      "        30 < age <= 40: 44.52% \n",
      "        40 < age <= 50: 38.37% \n",
      "        50 < age <= 60: 40.48% \n",
      "        60 < age <= 70: 23.53% \n",
      "        70 < age <= 80: 20.0%\n"
     ]
    }
   ],
   "source": [
    "# Compute survial rate for x < ages <=y  (x < y)\n",
    "def get_age_survival_rate(x, y):\n",
    "    total_number_age_group = len(titanic_data_no_null_ages.loc[(titanic_data_no_null_ages['Age'] > x) & \n",
    "                                                              (titanic_data_no_null_ages['Age'] <= y)])\n",
    "    survival_age_group = len(titanic_data_no_null_ages.loc[(titanic_data_no_null_ages['Age'] > x) & \n",
    "                                                          (titanic_data_no_null_ages['Age'] <= y) &\n",
    "                                                          (titanic_data_no_null_ages['Survived'] == 1)])\n",
    "    return round(float(survival_age_group)/total_number_age_group*100, 2)\n",
    "\n",
    "print 'Survival rate for each age group: \\n\\\n",
    "        0 < age <= 10: {}% \\n\\\n",
    "        10 < age <= 20: {}% \\n\\\n",
    "        20 < age <= 30: {}% \\n\\\n",
    "        30 < age <= 40: {}% \\n\\\n",
    "        40 < age <= 50: {}% \\n\\\n",
    "        50 < age <= 60: {}% \\n\\\n",
    "        60 < age <= 70: {}% \\n\\\n",
    "        70 < age <= 80: {}%'.format(get_age_survival_rate(0, 10),\n",
    "                                   get_age_survival_rate(10, 20),\n",
    "                                   get_age_survival_rate(20, 30),\n",
    "                                   get_age_survival_rate(30, 40),\n",
    "                                   get_age_survival_rate(40, 50),\n",
    "                                   get_age_survival_rate(50, 60),\n",
    "                                   get_age_survival_rate(60, 70),\n",
    "                                   get_age_survival_rate(70, 80))"
   ]
  },
  {
   "cell_type": "markdown",
   "metadata": {},
   "source": [
    "Based on the analysis above, young children (age from 0 to 10) have near 60% survival rate which is the highest of all the other age groups. Older people (age above 60) have relatively lower survival rate, both around 20%. The other age groups have survival rate around 40%. \n",
    "\n",
    "Next, we analyze the survival rate of children and adults."
   ]
  },
  {
   "cell_type": "code",
   "execution_count": 170,
   "metadata": {
    "collapsed": false
   },
   "outputs": [
    {
     "data": {
      "text/plain": [
       "<matplotlib.text.Text at 0x11f4a5dd0>"
      ]
     },
     "execution_count": 170,
     "metadata": {},
     "output_type": "execute_result"
    },
    {
     "data": {
      "image/png": "[encoded data removed]",
      "text/plain": [
       "<matplotlib.figure.Figure at 0x11f12d5d0>"
      ]
     },
     "metadata": {},
     "output_type": "display_data"
    }
   ],
   "source": [
    "# Add Category column to classify people into child and adult\n",
    "titanic_data_no_null_ages.loc[(titanic_data_no_null_ages['Age'] < 18),'Category'] = 'Child'\n",
    "titanic_data_no_null_ages.loc[(titanic_data_no_null_ages['Age'] >= 18),'Category'] = 'Adult'\n",
    "\n",
    "g = sns.factorplot(x='Category', y='Survived', data=titanic_data_no_null_ages, saturation=.5, kind=\"bar\", ci=None, aspect=.6)\n",
    "g.set_axis_labels('Category', 'Survival Rate')\n",
    "g.axes.flat[0].set_title('Age vs. Survival rate')"
   ]
  },
  {
   "cell_type": "code",
   "execution_count": 127,
   "metadata": {
    "collapsed": false
   },
   "outputs": [
    {
     "name": "stdout",
     "output_type": "stream",
     "text": [
      "Survival rate for children and adults: \n",
      "       children: 53.98% \n",
      "       adults: 38.1%\n"
     ]
    }
   ],
   "source": [
    "grouped = titanic_data_no_null_ages.groupby(['Category'])\n",
    "\n",
    "def get_category_survival_rate(category):\n",
    "    survival_rate = round(float(grouped.get_group(category)['Survived'].sum()) / len(grouped.get_group(category))*100, 2)\n",
    "    return survival_rate\n",
    "\n",
    "print 'Survival rate for children and adults: \\n\\\n",
    "       children: {}% \\n\\\n",
    "       adults: {}%'.format(get_category_survival_rate('Child'), get_category_survival_rate('Adult'))"
   ]
  },
  {
   "cell_type": "markdown",
   "metadata": {},
   "source": [
    "As we can see that children have 15% higher survival rate than adults. \n",
    "\n",
    "### Limitations\n",
    "\n",
    "The dataset contains 177 rows of missing age values, which is roughly 20% of the whole dataset. The relation between age and survival rate is built on dataset without missing age values and may be inaccurate due to these missing values. \n",
    "\n",
    "However, Q1 and Q2 do not depend on age values, the analysis of them is based on the whole given dataset. \n",
    "\n",
    "## Conclution\n",
    "\n",
    "In summary, women in 1st class have highest suvival rate and men in 3rd class have lowest survival rate. In general, women and children have higher survival rate. Both sex and class are major factors in survival rate. As for age, young children have higher survival rate than other age groups. Older adults have relatively low survival rates. And the other age groups' survival rates are similar. "
   ]
  },
  {
   "cell_type": "code",
   "execution_count": null,
   "metadata": {
    "collapsed": true
   },
   "outputs": [],
   "source": []
  }
 ],
 "metadata": {
  "anaconda-cloud": {},
  "kernelspec": {
   "display_name": "Python [default]",
   "language": "python",
   "name": "python2"
  },
  "language_info": {
   "codemirror_mode": {
    "name": "ipython",
    "version": 2
   },
   "file_extension": ".py",
   "mimetype": "text/x-python",
   "name": "python",
   "nbconvert_exporter": "python",
   "pygments_lexer": "ipython2",
   "version": "2.7.12"
  }
 },
 "nbformat": 4,
 "nbformat_minor": 1
}
